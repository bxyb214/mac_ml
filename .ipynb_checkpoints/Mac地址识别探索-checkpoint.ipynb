{
 "cells": [
  {
   "cell_type": "markdown",
   "metadata": {},
   "source": [
    "# Random Forests == Mac地址识别探索"
   ]
  },
  {
   "cell_type": "markdown",
   "metadata": {},
   "source": [
    "## 背景\n",
    "\n",
    "未判断是否为手机设备的MAC，若能通过已有数据寻找判断规律，识别出收集到的MAC地址是否为手机设备。\n",
    "\n",
    "## 原始数据解读\n",
    "系统采集到的用户MAC，此次识别探索的对象，记做MAC；\n",
    "\n",
    "进店时间，原始数据中为“yyyy-mm-dd hh:mm:ss”格式，其中年月日与MAC识别无关，每天都会收集到店访客的MAC，时分秒可以作为MAC识别的变量因子，原始数据的格式可转化为“hh.mm”，记做startime；\n",
    "\n",
    "离店时间，格式与进店时间相同，做相同处理，仅保留时分，转化为“hh.mm”格式，记做endtime；\n",
    "\n",
    "停留时长（分钟），可作为MAC识别的变量因子，原始格式即可，记做station；\n",
    "\n",
    "探针MAC，收集到的用户MAC地址探针识别号，与用户MAC识别无关；\n",
    "\n",
    "信号强度，一个设备可能在时间段内有多个不同的信号强度，数据按信号强弱排序，以分号间隔，这种多个数据存在一个属性中的样例不利于建模，因此对信号强度的原始数据分拆为四个字段：最强信号、最弱信号、波动次数、波动差值，依次记做strongsignal、weaksignal、times、diff；\n"
   ]
  },
  {
   "cell_type": "code",
   "execution_count": 97,
   "metadata": {
    "collapsed": true
   },
   "outputs": [],
   "source": [
    "import numpy as np\n",
    "import pandas as pd\n",
    "from sklearn.ensemble import RandomForestClassifier\n",
    "\n",
    "X = pd.read_csv('mac2.csv')\n",
    "#不处理MAC\n",
    "X.drop([\"MAC\"], axis=1, inplace=True)\n",
    "y = X.pop('mobiledevice')"
   ]
  },
  {
   "cell_type": "code",
   "execution_count": 110,
   "metadata": {},
   "outputs": [
    {
     "data": {
      "text/html": [
       "<div>\n",
       "<style>\n",
       "    .dataframe thead tr:only-child th {\n",
       "        text-align: right;\n",
       "    }\n",
       "\n",
       "    .dataframe thead th {\n",
       "        text-align: left;\n",
       "    }\n",
       "\n",
       "    .dataframe tbody tr th {\n",
       "        vertical-align: top;\n",
       "    }\n",
       "</style>\n",
       "<table border=\"1\" class=\"dataframe\">\n",
       "  <thead>\n",
       "    <tr style=\"text-align: right;\">\n",
       "      <th></th>\n",
       "      <th>starttime</th>\n",
       "      <th>endtime</th>\n",
       "      <th>station</th>\n",
       "      <th>strongsignal</th>\n",
       "      <th>weaksignal</th>\n",
       "      <th>times</th>\n",
       "      <th>diff</th>\n",
       "    </tr>\n",
       "  </thead>\n",
       "  <tbody>\n",
       "    <tr>\n",
       "      <th>count</th>\n",
       "      <td>11448.000000</td>\n",
       "      <td>11448.000000</td>\n",
       "      <td>11448.000000</td>\n",
       "      <td>11448.000000</td>\n",
       "      <td>11448.000000</td>\n",
       "      <td>11448.000000</td>\n",
       "      <td>11448.000000</td>\n",
       "    </tr>\n",
       "    <tr>\n",
       "      <th>mean</th>\n",
       "      <td>11.399858</td>\n",
       "      <td>13.837407</td>\n",
       "      <td>152.670772</td>\n",
       "      <td>-46.360412</td>\n",
       "      <td>-65.071541</td>\n",
       "      <td>7.319270</td>\n",
       "      <td>27.407844</td>\n",
       "    </tr>\n",
       "    <tr>\n",
       "      <th>std</th>\n",
       "      <td>2.640560</td>\n",
       "      <td>2.663539</td>\n",
       "      <td>157.851660</td>\n",
       "      <td>8.564449</td>\n",
       "      <td>32.565599</td>\n",
       "      <td>7.766342</td>\n",
       "      <td>17.149981</td>\n",
       "    </tr>\n",
       "    <tr>\n",
       "      <th>min</th>\n",
       "      <td>9.000000</td>\n",
       "      <td>9.000000</td>\n",
       "      <td>5.000000</td>\n",
       "      <td>-59.000000</td>\n",
       "      <td>-98.000000</td>\n",
       "      <td>-71.000000</td>\n",
       "      <td>-61.000000</td>\n",
       "    </tr>\n",
       "    <tr>\n",
       "      <th>25%</th>\n",
       "      <td>9.020000</td>\n",
       "      <td>11.370000</td>\n",
       "      <td>25.000000</td>\n",
       "      <td>-52.000000</td>\n",
       "      <td>-86.000000</td>\n",
       "      <td>1.000000</td>\n",
       "      <td>17.000000</td>\n",
       "    </tr>\n",
       "    <tr>\n",
       "      <th>50%</th>\n",
       "      <td>10.275000</td>\n",
       "      <td>14.110000</td>\n",
       "      <td>89.000000</td>\n",
       "      <td>-49.000000</td>\n",
       "      <td>-80.000000</td>\n",
       "      <td>4.000000</td>\n",
       "      <td>30.000000</td>\n",
       "    </tr>\n",
       "    <tr>\n",
       "      <th>75%</th>\n",
       "      <td>13.440000</td>\n",
       "      <td>16.330000</td>\n",
       "      <td>240.000000</td>\n",
       "      <td>-42.000000</td>\n",
       "      <td>-66.000000</td>\n",
       "      <td>13.000000</td>\n",
       "      <td>39.000000</td>\n",
       "    </tr>\n",
       "    <tr>\n",
       "      <th>max</th>\n",
       "      <td>18.000000</td>\n",
       "      <td>18.000000</td>\n",
       "      <td>540.000000</td>\n",
       "      <td>-10.000000</td>\n",
       "      <td>32.000000</td>\n",
       "      <td>56.000000</td>\n",
       "      <td>85.000000</td>\n",
       "    </tr>\n",
       "  </tbody>\n",
       "</table>\n",
       "</div>"
      ],
      "text/plain": [
       "          starttime       endtime       station  strongsignal    weaksignal  \\\n",
       "count  11448.000000  11448.000000  11448.000000  11448.000000  11448.000000   \n",
       "mean      11.399858     13.837407    152.670772    -46.360412    -65.071541   \n",
       "std        2.640560      2.663539    157.851660      8.564449     32.565599   \n",
       "min        9.000000      9.000000      5.000000    -59.000000    -98.000000   \n",
       "25%        9.020000     11.370000     25.000000    -52.000000    -86.000000   \n",
       "50%       10.275000     14.110000     89.000000    -49.000000    -80.000000   \n",
       "75%       13.440000     16.330000    240.000000    -42.000000    -66.000000   \n",
       "max       18.000000     18.000000    540.000000    -10.000000     32.000000   \n",
       "\n",
       "              times          diff  \n",
       "count  11448.000000  11448.000000  \n",
       "mean       7.319270     27.407844  \n",
       "std        7.766342     17.149981  \n",
       "min      -71.000000    -61.000000  \n",
       "25%        1.000000     17.000000  \n",
       "50%        4.000000     30.000000  \n",
       "75%       13.000000     39.000000  \n",
       "max       56.000000     85.000000  "
      ]
     },
     "execution_count": 110,
     "metadata": {},
     "output_type": "execute_result"
    }
   ],
   "source": [
    "X.describe()"
   ]
  },
  {
   "cell_type": "code",
   "execution_count": 99,
   "metadata": {
    "collapsed": true
   },
   "outputs": [],
   "source": [
    "numeric_variables = list(X.dtypes.index)"
   ]
  },
  {
   "cell_type": "markdown",
   "metadata": {},
   "source": [
    "采用的回归分类方法为：提出MAC后的全变量，即\n",
    "mobiledevice~starttime+endtime+station+strongsignal+weaksignal+times+diff"
   ]
  },
  {
   "cell_type": "code",
   "execution_count": 100,
   "metadata": {},
   "outputs": [
    {
     "data": {
      "text/html": [
       "<div>\n",
       "<style>\n",
       "    .dataframe thead tr:only-child th {\n",
       "        text-align: right;\n",
       "    }\n",
       "\n",
       "    .dataframe thead th {\n",
       "        text-align: left;\n",
       "    }\n",
       "\n",
       "    .dataframe tbody tr th {\n",
       "        vertical-align: top;\n",
       "    }\n",
       "</style>\n",
       "<table border=\"1\" class=\"dataframe\">\n",
       "  <thead>\n",
       "    <tr style=\"text-align: right;\">\n",
       "      <th></th>\n",
       "      <th>starttime</th>\n",
       "      <th>endtime</th>\n",
       "      <th>station</th>\n",
       "      <th>strongsignal</th>\n",
       "      <th>weaksignal</th>\n",
       "      <th>times</th>\n",
       "      <th>diff</th>\n",
       "    </tr>\n",
       "  </thead>\n",
       "  <tbody>\n",
       "    <tr>\n",
       "      <th>0</th>\n",
       "      <td>9.0</td>\n",
       "      <td>10.0</td>\n",
       "      <td>58</td>\n",
       "      <td>-45</td>\n",
       "      <td>-84</td>\n",
       "      <td>20</td>\n",
       "      <td>39</td>\n",
       "    </tr>\n",
       "    <tr>\n",
       "      <th>1</th>\n",
       "      <td>9.0</td>\n",
       "      <td>10.0</td>\n",
       "      <td>58</td>\n",
       "      <td>-30</td>\n",
       "      <td>-75</td>\n",
       "      <td>19</td>\n",
       "      <td>45</td>\n",
       "    </tr>\n",
       "    <tr>\n",
       "      <th>2</th>\n",
       "      <td>9.0</td>\n",
       "      <td>10.0</td>\n",
       "      <td>58</td>\n",
       "      <td>-30</td>\n",
       "      <td>-85</td>\n",
       "      <td>16</td>\n",
       "      <td>55</td>\n",
       "    </tr>\n",
       "    <tr>\n",
       "      <th>3</th>\n",
       "      <td>9.1</td>\n",
       "      <td>10.0</td>\n",
       "      <td>49</td>\n",
       "      <td>-49</td>\n",
       "      <td>-85</td>\n",
       "      <td>4</td>\n",
       "      <td>36</td>\n",
       "    </tr>\n",
       "    <tr>\n",
       "      <th>4</th>\n",
       "      <td>9.1</td>\n",
       "      <td>10.0</td>\n",
       "      <td>49</td>\n",
       "      <td>-42</td>\n",
       "      <td>-85</td>\n",
       "      <td>1</td>\n",
       "      <td>43</td>\n",
       "    </tr>\n",
       "  </tbody>\n",
       "</table>\n",
       "</div>"
      ],
      "text/plain": [
       "   starttime  endtime  station  strongsignal  weaksignal  times  diff\n",
       "0        9.0     10.0       58           -45         -84     20    39\n",
       "1        9.0     10.0       58           -30         -75     19    45\n",
       "2        9.0     10.0       58           -30         -85     16    55\n",
       "3        9.1     10.0       49           -49         -85      4    36\n",
       "4        9.1     10.0       49           -42         -85      1    43"
      ]
     },
     "execution_count": 100,
     "metadata": {},
     "output_type": "execute_result"
    }
   ],
   "source": [
    "X[numeric_variables].head()"
   ]
  },
  {
   "cell_type": "code",
   "execution_count": 101,
   "metadata": {
    "collapsed": true
   },
   "outputs": [],
   "source": [
    "model = RandomForestClassifier(n_estimators=100, oob_score=True, random_state=42)"
   ]
  },
  {
   "cell_type": "code",
   "execution_count": 102,
   "metadata": {},
   "outputs": [
    {
     "data": {
      "text/plain": [
       "RandomForestClassifier(bootstrap=True, class_weight=None, criterion='gini',\n",
       "            max_depth=None, max_features='auto', max_leaf_nodes=None,\n",
       "            min_impurity_split=1e-07, min_samples_leaf=1,\n",
       "            min_samples_split=2, min_weight_fraction_leaf=0.0,\n",
       "            n_estimators=100, n_jobs=1, oob_score=True, random_state=42,\n",
       "            verbose=0, warm_start=False)"
      ]
     },
     "execution_count": 102,
     "metadata": {},
     "output_type": "execute_result"
    }
   ],
   "source": [
    "model.fit(X[numeric_variables], y)"
   ]
  },
  {
   "cell_type": "code",
   "execution_count": 103,
   "metadata": {},
   "outputs": [
    {
     "data": {
      "text/plain": [
       "0.94671558350803631"
      ]
     },
     "execution_count": 103,
     "metadata": {},
     "output_type": "execute_result"
    }
   ],
   "source": [
    "model.oob_score_"
   ]
  },
  {
   "cell_type": "code",
   "execution_count": 104,
   "metadata": {},
   "outputs": [],
   "source": [
    "data = {'starttime': [13.59],\n",
    "        'endtime': [15.05],\n",
    "        'station': [66],\n",
    "        'strongsignal': [-42],\n",
    "        'weaksignal': [-76],\n",
    "        'times': [3],\n",
    "        'diff': [34]}"
   ]
  },
  {
   "cell_type": "code",
   "execution_count": 105,
   "metadata": {},
   "outputs": [],
   "source": [
    "x_test = pd.DataFrame(data)"
   ]
  },
  {
   "cell_type": "code",
   "execution_count": 106,
   "metadata": {
    "scrolled": true
   },
   "outputs": [
    {
     "name": "stdout",
     "output_type": "stream",
     "text": [
      "   diff  endtime  starttime  station  strongsignal  times  weaksignal\n",
      "0    34    15.05      13.59       66           -42      3         -76\n"
     ]
    }
   ],
   "source": [
    "print(x_test)"
   ]
  },
  {
   "cell_type": "code",
   "execution_count": 107,
   "metadata": {},
   "outputs": [],
   "source": [
    "predicted= model.predict(x_test)"
   ]
  },
  {
   "cell_type": "code",
   "execution_count": 108,
   "metadata": {},
   "outputs": [
    {
     "name": "stdout",
     "output_type": "stream",
     "text": [
      "['Y']\n"
     ]
    }
   ],
   "source": [
    "print(predicted)"
   ]
  },
  {
   "cell_type": "code",
   "execution_count": null,
   "metadata": {
    "collapsed": true
   },
   "outputs": [],
   "source": []
  }
 ],
 "metadata": {
  "kernelspec": {
   "display_name": "Python 3",
   "language": "python",
   "name": "python3"
  },
  "language_info": {
   "codemirror_mode": {
    "name": "ipython",
    "version": 3
   },
   "file_extension": ".py",
   "mimetype": "text/x-python",
   "name": "python",
   "nbconvert_exporter": "python",
   "pygments_lexer": "ipython3",
   "version": "3.5.3"
  }
 },
 "nbformat": 4,
 "nbformat_minor": 2
}
